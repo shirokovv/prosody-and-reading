{
 "cells": [
  {
   "cell_type": "code",
   "execution_count": 1,
   "id": "c27c2371-06f8-48db-9966-ef11b65faa2f",
   "metadata": {},
   "outputs": [],
   "source": [
    "import os"
   ]
  },
  {
   "cell_type": "code",
   "execution_count": 8,
   "id": "7d06207d-f6e9-4010-993c-50125bc8a363",
   "metadata": {},
   "outputs": [],
   "source": [
    "data_dir = '/Users/ivansirokov/Documents/diploma/data/audio_all/zoo_denoise — копия'\n",
    "\n",
    "pattern = '.wav'\n",
    "filtered_files = [f for f in os.listdir(data_dir) if f.endswith(pattern)]\n",
    "for file in filtered_files: \n",
    "    # f = file.split('/')[-1]\n",
    "    f = file.split('-')[0]\n",
    "    os.rename('/Users/ivansirokov/Documents/diploma/data/audio_all/zoo_denoise — копия/' + file, '/Users/ivansirokov/Documents/diploma/data/audio_all/zoo_denoise — копия/' + f + '.wav')"
   ]
  },
  {
   "cell_type": "code",
   "execution_count": 18,
   "id": "f000250c-0d2e-439f-8253-1c3303e60ab3",
   "metadata": {},
   "outputs": [],
   "source": [
    "for file in os.listdir('/Users/ivansirokov/Documents/diploma/data/audio_all/trick'):\n",
    "    os.rename('/Users/ivansirokov/Documents/diploma/data/audio_all/trick/' + file, '/Users/ivansirokov/Documents/diploma/data/audio_all/trick/' + file + '.wav')"
   ]
  },
  {
   "cell_type": "code",
   "execution_count": 4,
   "id": "c7533fbe-8204-42fe-b5b1-593332b544a5",
   "metadata": {},
   "outputs": [],
   "source": [
    "filtered_files = [f for f in os.listdir(data_dir) if f.endswith(pattern)]"
   ]
  },
  {
   "cell_type": "code",
   "execution_count": 6,
   "id": "1439961d-92ba-4ad1-9922-13732c21220a",
   "metadata": {},
   "outputs": [
    {
     "name": "stdout",
     "output_type": "stream",
     "text": [
      "322\n"
     ]
    }
   ],
   "source": [
    "print(len(filtered_files))"
   ]
  },
  {
   "cell_type": "code",
   "execution_count": null,
   "id": "88148165-7195-47d4-ad1f-67de74b6d72f",
   "metadata": {},
   "outputs": [],
   "source": []
  }
 ],
 "metadata": {
  "kernelspec": {
   "display_name": "Python 3 (ipykernel)",
   "language": "python",
   "name": "python3"
  },
  "language_info": {
   "codemirror_mode": {
    "name": "ipython",
    "version": 3
   },
   "file_extension": ".py",
   "mimetype": "text/x-python",
   "name": "python",
   "nbconvert_exporter": "python",
   "pygments_lexer": "ipython3",
   "version": "3.8.2"
  }
 },
 "nbformat": 4,
 "nbformat_minor": 5
}
